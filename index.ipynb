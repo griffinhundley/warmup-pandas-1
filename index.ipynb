{
 "cells": [
  {
   "cell_type": "markdown",
   "metadata": {},
   "source": [
    "# Video Gambling Data and Pandas 🧐\n",
    "<img src=\"https://media.tegna-media.com/assets/WQAD/images/01c4abef-ca79-4b9b-b3f7-2ad2e856b34b/01c4abef-ca79-4b9b-b3f7-2ad2e856b34b_750x422.jpg\" width=\"460\"/>"
   ]
  },
  {
   "cell_type": "markdown",
   "metadata": {},
   "source": [
    "### *Video gambling, in Illinois, was legalized in 2012.*\n",
    "\n",
    ">Since then, it has become a boon for local bars, restaurants, and communities with declining tax revenue, but comes with public health concerns of gambling addition.\n",
    "Because of this Video Gambling is a frequent issue voted on by municipal governments in Illinois. \n",
    "\n",
    ">Video Gambling is closely monitored by the [Illinois Gaming Board](https://www.igb.illinois.gov/) and has been the subject of much reporting by local news agencies.\n",
    "\n",
    "**Let's use our skills with Pandas to investigate this topic.**"
   ]
  },
  {
   "cell_type": "code",
   "execution_count": 1,
   "metadata": {
    "ExecuteTime": {
     "end_time": "2020-05-17T21:38:09.499406Z",
     "start_time": "2020-05-17T21:38:09.093296Z"
    }
   },
   "outputs": [],
   "source": [
    "# Run this cell unchanged\n",
    "\n",
    "# if you get a long error msg:\n",
    "# - restart the kernal \n",
    "# (click the circular arrow icon right below the tab for the notebook)\n",
    "# - make a new cell above this one and import pandas as pd there\n",
    "\n",
    "import pandas as pd\n",
    "from IPython.display import display, Markdown\n",
    "\n",
    "def markdown(text):\n",
    "    display(Markdown(text))\n",
    "\n",
    "#used for tests\n",
    "#testing\n",
    "from test_scripts.test_class import Test\n",
    "import numpy as np\n",
    "\n",
    "testing = Test()"
   ]
  },
  {
   "cell_type": "markdown",
   "metadata": {},
   "source": [
    "**Our data is located** within the ```data``` folder of this repo.\n",
    "\n",
    "It is titled ```2019-il-vgambling.csv```\n",
    "\n",
    "<u>In the cell below:</u> \n",
    "1. Set the ```path``` variable to the path ```./data/2019-il-vgambling.csv```. \n",
    "    - (reverse the slashes if you're on Windows)\n",
    "2. Run the cell to import our dataset."
   ]
  },
  {
   "cell_type": "code",
   "execution_count": 4,
   "metadata": {
    "ExecuteTime": {
     "end_time": "2020-05-17T00:29:34.172779Z",
     "start_time": "2020-05-17T00:29:34.159864Z"
    }
   },
   "outputs": [],
   "source": [
    "path = './data/2019-il-vgambling.csv'\n",
    "data = pd.read_csv(path)"
   ]
  },
  {
   "cell_type": "markdown",
   "metadata": {},
   "source": [
    "**Ok,** let's print out the first 5 rows using the ```.head()``` method."
   ]
  },
  {
   "cell_type": "code",
   "execution_count": 5,
   "metadata": {},
   "outputs": [
    {
     "data": {
      "text/html": [
       "<div>\n",
       "<style scoped>\n",
       "    .dataframe tbody tr th:only-of-type {\n",
       "        vertical-align: middle;\n",
       "    }\n",
       "\n",
       "    .dataframe tbody tr th {\n",
       "        vertical-align: top;\n",
       "    }\n",
       "\n",
       "    .dataframe thead th {\n",
       "        text-align: right;\n",
       "    }\n",
       "</style>\n",
       "<table border=\"1\" class=\"dataframe\">\n",
       "  <thead>\n",
       "    <tr style=\"text-align: right;\">\n",
       "      <th></th>\n",
       "      <th>Municipality</th>\n",
       "      <th>Establishment Count</th>\n",
       "      <th>Terminal Count</th>\n",
       "      <th>Amount Played</th>\n",
       "      <th>Amount Won</th>\n",
       "      <th>Nti Tax</th>\n",
       "      <th>State Share</th>\n",
       "      <th>Municipality Share</th>\n",
       "    </tr>\n",
       "  </thead>\n",
       "  <tbody>\n",
       "    <tr>\n",
       "      <th>0</th>\n",
       "      <td>Oregon</td>\n",
       "      <td>13</td>\n",
       "      <td>58</td>\n",
       "      <td>30182428.57</td>\n",
       "      <td>27583763.32</td>\n",
       "      <td>818444.23</td>\n",
       "      <td>688505.69</td>\n",
       "      <td>129938.54</td>\n",
       "    </tr>\n",
       "    <tr>\n",
       "      <th>1</th>\n",
       "      <td>Oakwood Hills</td>\n",
       "      <td>1</td>\n",
       "      <td>4</td>\n",
       "      <td>216669.74</td>\n",
       "      <td>199790.23</td>\n",
       "      <td>5281.38</td>\n",
       "      <td>4433.69</td>\n",
       "      <td>847.69</td>\n",
       "    </tr>\n",
       "    <tr>\n",
       "      <th>2</th>\n",
       "      <td>Merrionette Park</td>\n",
       "      <td>4</td>\n",
       "      <td>17</td>\n",
       "      <td>26567816.26</td>\n",
       "      <td>24324921.75</td>\n",
       "      <td>706616.85</td>\n",
       "      <td>594470.85</td>\n",
       "      <td>112146.00</td>\n",
       "    </tr>\n",
       "    <tr>\n",
       "      <th>3</th>\n",
       "      <td>Ashkum</td>\n",
       "      <td>2</td>\n",
       "      <td>8</td>\n",
       "      <td>2289711.66</td>\n",
       "      <td>2113123.06</td>\n",
       "      <td>55674.55</td>\n",
       "      <td>46845.11</td>\n",
       "      <td>8829.44</td>\n",
       "    </tr>\n",
       "    <tr>\n",
       "      <th>4</th>\n",
       "      <td>Grandview</td>\n",
       "      <td>5</td>\n",
       "      <td>25</td>\n",
       "      <td>13713301.51</td>\n",
       "      <td>12475853.83</td>\n",
       "      <td>390048.01</td>\n",
       "      <td>328175.50</td>\n",
       "      <td>61872.51</td>\n",
       "    </tr>\n",
       "  </tbody>\n",
       "</table>\n",
       "</div>"
      ],
      "text/plain": [
       "       Municipality  Establishment Count  Terminal Count  Amount Played  \\\n",
       "0            Oregon                   13              58    30182428.57   \n",
       "1     Oakwood Hills                    1               4      216669.74   \n",
       "2  Merrionette Park                    4              17    26567816.26   \n",
       "3            Ashkum                    2               8     2289711.66   \n",
       "4         Grandview                    5              25    13713301.51   \n",
       "\n",
       "    Amount Won    Nti Tax  State Share  Municipality Share  \n",
       "0  27583763.32  818444.23    688505.69           129938.54  \n",
       "1    199790.23    5281.38      4433.69              847.69  \n",
       "2  24324921.75  706616.85    594470.85           112146.00  \n",
       "3   2113123.06   55674.55     46845.11             8829.44  \n",
       "4  12475853.83  390048.01    328175.50            61872.51  "
      ]
     },
     "execution_count": 5,
     "metadata": {},
     "output_type": "execute_result"
    }
   ],
   "source": [
    "# Your code here\n",
    "data.head()"
   ]
  },
  {
   "cell_type": "markdown",
   "metadata": {},
   "source": [
    "<center><u><h3>Column Descriptions</h3><u></center>\n",
    "\n",
    "\n",
    "| Column Name         \t| Description                                                                                                                                                               \t|\n",
    "|:---------------------\t|:---------------------------------------------------------------------------------------------------------------------------------------------------------------------------\t|\n",
    "| Municipality        \t| The community's name                                                                                                                                                      \t|\n",
    "| Establishment Count \t| Number of businesses with video gambling licenses                                                                                                                         \t|\n",
    "| Terminal Count      \t| Number of video gambling machines in the community.                                                                                                                       \t|\n",
    "| Amount Played       \t| Total amount spent on video gambling by players.                                                                                                                          \t|\n",
    "| Amount Won          \t| Total amount won by players                                                                                                                                               \t|\n",
    "| Nti Tax             \t| The Net Terminal Income Tax Rate <br>is 30% of the Net Terminal Income. <br>The funds are divided between<br>the State of Illinois and local <br>governmental organizations. \t|\n",
    "| State Share         \t| Total revenue received by the State Government                                                                                                                            \t|\n",
    "| Municipality Share  \t| Total revenue received by the Municipality                                                                                                                                \t|"
   ]
  },
  {
   "cell_type": "markdown",
   "metadata": {},
   "source": [
    "**When examining data at the municipal level,** it is common to <i><u>scale</u></i> our data according to the municipality's population. \n",
    ">This is often referred to as scaling our data *per capita*. \n",
    "\n",
    "To do this let's import some population data for Illinois Municipalities.\n",
    "\n",
    "In the cell below: \n",
    "1. Set the ```path``` variable to the path for the ```population.csv``` file within the ```data``` folder.\n",
    "2. Run the cell to import our population data."
   ]
  },
  {
   "cell_type": "code",
   "execution_count": 6,
   "metadata": {},
   "outputs": [],
   "source": [
    "path = './data/population.csv'\n",
    "pop = pd.read_csv(path)"
   ]
  },
  {
   "cell_type": "markdown",
   "metadata": {},
   "source": [
    "**Cool Cool**, let's print out the first 5 rows using the ```.head()``` method."
   ]
  },
  {
   "cell_type": "code",
   "execution_count": 7,
   "metadata": {},
   "outputs": [
    {
     "data": {
      "text/html": [
       "<div>\n",
       "<style scoped>\n",
       "    .dataframe tbody tr th:only-of-type {\n",
       "        vertical-align: middle;\n",
       "    }\n",
       "\n",
       "    .dataframe tbody tr th {\n",
       "        vertical-align: top;\n",
       "    }\n",
       "\n",
       "    .dataframe thead th {\n",
       "        text-align: right;\n",
       "    }\n",
       "</style>\n",
       "<table border=\"1\" class=\"dataframe\">\n",
       "  <thead>\n",
       "    <tr style=\"text-align: right;\">\n",
       "      <th></th>\n",
       "      <th>Unnamed: 0</th>\n",
       "      <th>Municipality</th>\n",
       "      <th>Population</th>\n",
       "    </tr>\n",
       "  </thead>\n",
       "  <tbody>\n",
       "    <tr>\n",
       "      <th>0</th>\n",
       "      <td>0</td>\n",
       "      <td>Champaign</td>\n",
       "      <td>86,791</td>\n",
       "    </tr>\n",
       "    <tr>\n",
       "      <th>1</th>\n",
       "      <td>1</td>\n",
       "      <td>Carbondale</td>\n",
       "      <td>25,846</td>\n",
       "    </tr>\n",
       "    <tr>\n",
       "      <th>2</th>\n",
       "      <td>2</td>\n",
       "      <td>Prairie Grove</td>\n",
       "      <td>1,826</td>\n",
       "    </tr>\n",
       "    <tr>\n",
       "      <th>3</th>\n",
       "      <td>3</td>\n",
       "      <td>Macomb</td>\n",
       "      <td>18,118</td>\n",
       "    </tr>\n",
       "    <tr>\n",
       "      <th>4</th>\n",
       "      <td>4</td>\n",
       "      <td>Brimfield</td>\n",
       "      <td>965</td>\n",
       "    </tr>\n",
       "  </tbody>\n",
       "</table>\n",
       "</div>"
      ],
      "text/plain": [
       "   Unnamed: 0   Municipality Population\n",
       "0           0      Champaign     86,791\n",
       "1           1     Carbondale     25,846\n",
       "2           2  Prairie Grove      1,826\n",
       "3           3         Macomb     18,118\n",
       "4           4      Brimfield        965"
      ]
     },
     "execution_count": 7,
     "metadata": {},
     "output_type": "execute_result"
    }
   ],
   "source": [
    "# Your Code here\n",
    "pop.head()"
   ]
  },
  {
   "cell_type": "markdown",
   "metadata": {},
   "source": [
    "Let's remove the ```Unnamed: 0``` column."
   ]
  },
  {
   "cell_type": "code",
   "execution_count": 8,
   "metadata": {
    "ExecuteTime": {
     "end_time": "2020-05-17T01:54:55.264897Z",
     "start_time": "2020-05-17T01:54:55.260935Z"
    }
   },
   "outputs": [],
   "source": [
    "pop.drop('Unnamed: 0', axis = 1, inplace = True)"
   ]
  },
  {
   "cell_type": "markdown",
   "metadata": {},
   "source": [
    "We need to merge our two datasets. \n",
    "\n",
    "**When merging** datasets, it's important to check the length of our datasets before and after merging to make sure we are not losing too much data.\n",
    "\n",
    "<u>In the cell below:</u>\n",
    "1. Set the variable ```length_before_merge``` to the length of our ```data``` dataframe using python's built in ```len``` function"
   ]
  },
  {
   "cell_type": "code",
   "execution_count": 9,
   "metadata": {
    "ExecuteTime": {
     "end_time": "2020-05-17T21:36:57.504037Z",
     "start_time": "2020-05-17T21:36:57.478846Z"
    }
   },
   "outputs": [
    {
     "data": {
      "text/markdown": [
       "<u>Length before merge:</u> **835**"
      ],
      "text/plain": [
       "<IPython.core.display.Markdown object>"
      ]
     },
     "metadata": {},
     "output_type": "display_data"
    }
   ],
   "source": [
    "# Your code here\n",
    "length_before_merge = len(data)\n",
    "\n",
    "\n",
    "# Run Code below without change\n",
    "string = '''<u>Length before merge:</u> **{}**'''.format(length_before_merge)\n",
    "markdown(string)"
   ]
  },
  {
   "cell_type": "markdown",
   "metadata": {},
   "source": [
    "*Merge Time*\n",
    "\n",
    "\n",
    "<u>In the cell below:</u>\n",
    "1. [Merge](https://pandas.pydata.org/pandas-docs/stable/reference/api/pandas.DataFrame.merge.html) the two dataframes on the ```Municipality``` column.\n",
    "    - Save the merged dataframe as the variable ```df```"
   ]
  },
  {
   "cell_type": "code",
   "execution_count": 10,
   "metadata": {},
   "outputs": [
    {
     "data": {
      "text/html": [
       "<div>\n",
       "<style scoped>\n",
       "    .dataframe tbody tr th:only-of-type {\n",
       "        vertical-align: middle;\n",
       "    }\n",
       "\n",
       "    .dataframe tbody tr th {\n",
       "        vertical-align: top;\n",
       "    }\n",
       "\n",
       "    .dataframe thead th {\n",
       "        text-align: right;\n",
       "    }\n",
       "</style>\n",
       "<table border=\"1\" class=\"dataframe\">\n",
       "  <thead>\n",
       "    <tr style=\"text-align: right;\">\n",
       "      <th></th>\n",
       "      <th>Municipality</th>\n",
       "      <th>Establishment Count</th>\n",
       "      <th>Terminal Count</th>\n",
       "      <th>Amount Played</th>\n",
       "      <th>Amount Won</th>\n",
       "      <th>Nti Tax</th>\n",
       "      <th>State Share</th>\n",
       "      <th>Municipality Share</th>\n",
       "      <th>Population</th>\n",
       "    </tr>\n",
       "  </thead>\n",
       "  <tbody>\n",
       "    <tr>\n",
       "      <th>0</th>\n",
       "      <td>Oregon</td>\n",
       "      <td>13</td>\n",
       "      <td>58</td>\n",
       "      <td>30182428.57</td>\n",
       "      <td>27583763.32</td>\n",
       "      <td>818444.23</td>\n",
       "      <td>688505.69</td>\n",
       "      <td>129938.54</td>\n",
       "      <td>3,683</td>\n",
       "    </tr>\n",
       "    <tr>\n",
       "      <th>1</th>\n",
       "      <td>Oakwood Hills</td>\n",
       "      <td>1</td>\n",
       "      <td>4</td>\n",
       "      <td>216669.74</td>\n",
       "      <td>199790.23</td>\n",
       "      <td>5281.38</td>\n",
       "      <td>4433.69</td>\n",
       "      <td>847.69</td>\n",
       "      <td>2,245</td>\n",
       "    </tr>\n",
       "    <tr>\n",
       "      <th>2</th>\n",
       "      <td>Merrionette Park</td>\n",
       "      <td>4</td>\n",
       "      <td>17</td>\n",
       "      <td>26567816.26</td>\n",
       "      <td>24324921.75</td>\n",
       "      <td>706616.85</td>\n",
       "      <td>594470.85</td>\n",
       "      <td>112146.00</td>\n",
       "      <td>2,163</td>\n",
       "    </tr>\n",
       "    <tr>\n",
       "      <th>3</th>\n",
       "      <td>Ashkum</td>\n",
       "      <td>2</td>\n",
       "      <td>8</td>\n",
       "      <td>2289711.66</td>\n",
       "      <td>2113123.06</td>\n",
       "      <td>55674.55</td>\n",
       "      <td>46845.11</td>\n",
       "      <td>8829.44</td>\n",
       "      <td>800</td>\n",
       "    </tr>\n",
       "    <tr>\n",
       "      <th>4</th>\n",
       "      <td>Grandview</td>\n",
       "      <td>5</td>\n",
       "      <td>25</td>\n",
       "      <td>13713301.51</td>\n",
       "      <td>12475853.83</td>\n",
       "      <td>390048.01</td>\n",
       "      <td>328175.50</td>\n",
       "      <td>61872.51</td>\n",
       "      <td>1,453</td>\n",
       "    </tr>\n",
       "  </tbody>\n",
       "</table>\n",
       "</div>"
      ],
      "text/plain": [
       "       Municipality  Establishment Count  Terminal Count  Amount Played  \\\n",
       "0            Oregon                   13              58    30182428.57   \n",
       "1     Oakwood Hills                    1               4      216669.74   \n",
       "2  Merrionette Park                    4              17    26567816.26   \n",
       "3            Ashkum                    2               8     2289711.66   \n",
       "4         Grandview                    5              25    13713301.51   \n",
       "\n",
       "    Amount Won    Nti Tax  State Share  Municipality Share Population  \n",
       "0  27583763.32  818444.23    688505.69           129938.54      3,683  \n",
       "1    199790.23    5281.38      4433.69              847.69      2,245  \n",
       "2  24324921.75  706616.85    594470.85           112146.00      2,163  \n",
       "3   2113123.06   55674.55     46845.11             8829.44        800  \n",
       "4  12475853.83  390048.01    328175.50            61872.51      1,453  "
      ]
     },
     "execution_count": 10,
     "metadata": {},
     "output_type": "execute_result"
    }
   ],
   "source": [
    "# Your code here\n",
    "df = data.merge(pop, on = 'Municipality')\n",
    "df.head()"
   ]
  },
  {
   "cell_type": "markdown",
   "metadata": {},
   "source": [
    "Now we need to check the length of our dataframe to make sure we didn't lose data! \n",
    "\n",
    "<u>In the cell below:</u>\n",
    "1. Set the ```length_after_merge``` variable to the length of ```df```."
   ]
  },
  {
   "cell_type": "code",
   "execution_count": 11,
   "metadata": {
    "ExecuteTime": {
     "end_time": "2020-05-17T21:37:04.502956Z",
     "start_time": "2020-05-17T21:37:04.475442Z"
    }
   },
   "outputs": [
    {
     "data": {
      "text/markdown": [
       "<u>Length after merge:</u> **835**"
      ],
      "text/plain": [
       "<IPython.core.display.Markdown object>"
      ]
     },
     "metadata": {},
     "output_type": "display_data"
    }
   ],
   "source": [
    "# Your code here\n",
    "length_after_merge = len(df)\n",
    "\n",
    "\n",
    "# Run Code below without change\n",
    "string = '''<u>Length after merge:</u> **{}**'''.format(length_after_merge,)\n",
    "markdown(string)"
   ]
  },
  {
   "cell_type": "markdown",
   "metadata": {
    "ExecuteTime": {
     "end_time": "2020-05-17T00:17:37.266328Z",
     "start_time": "2020-05-17T00:17:37.255213Z"
    }
   },
   "source": [
    "In the cell below, set the Municipality column as the index using the ```.set_index()``` method."
   ]
  },
  {
   "cell_type": "code",
   "execution_count": 14,
   "metadata": {},
   "outputs": [],
   "source": [
    "# Your code here\n",
    "df.set_index('Municipality', inplace = True)"
   ]
  },
  {
   "cell_type": "markdown",
   "metadata": {
    "ExecuteTime": {
     "end_time": "2020-05-17T00:19:20.848464Z",
     "start_time": "2020-05-17T00:19:20.811798Z"
    }
   },
   "source": [
    "Let's sort our index alphabetically using [this](https://pandas.pydata.org/pandas-docs/stable/reference/api/pandas.DataFrame.sort_index.html) method."
   ]
  },
  {
   "cell_type": "code",
   "execution_count": 15,
   "metadata": {},
   "outputs": [
    {
     "data": {
      "text/html": [
       "<div>\n",
       "<style scoped>\n",
       "    .dataframe tbody tr th:only-of-type {\n",
       "        vertical-align: middle;\n",
       "    }\n",
       "\n",
       "    .dataframe tbody tr th {\n",
       "        vertical-align: top;\n",
       "    }\n",
       "\n",
       "    .dataframe thead th {\n",
       "        text-align: right;\n",
       "    }\n",
       "</style>\n",
       "<table border=\"1\" class=\"dataframe\">\n",
       "  <thead>\n",
       "    <tr style=\"text-align: right;\">\n",
       "      <th></th>\n",
       "      <th>Establishment Count</th>\n",
       "      <th>Terminal Count</th>\n",
       "      <th>Amount Played</th>\n",
       "      <th>Amount Won</th>\n",
       "      <th>Nti Tax</th>\n",
       "      <th>State Share</th>\n",
       "      <th>Municipality Share</th>\n",
       "      <th>Population</th>\n",
       "    </tr>\n",
       "    <tr>\n",
       "      <th>Municipality</th>\n",
       "      <th></th>\n",
       "      <th></th>\n",
       "      <th></th>\n",
       "      <th></th>\n",
       "      <th></th>\n",
       "      <th></th>\n",
       "      <th></th>\n",
       "      <th></th>\n",
       "    </tr>\n",
       "  </thead>\n",
       "  <tbody>\n",
       "    <tr>\n",
       "      <th>Abingdon</th>\n",
       "      <td>4</td>\n",
       "      <td>16</td>\n",
       "      <td>6492446.76</td>\n",
       "      <td>5968296.97</td>\n",
       "      <td>165040.02</td>\n",
       "      <td>138832.38</td>\n",
       "      <td>26207.64</td>\n",
       "      <td>3,452</td>\n",
       "    </tr>\n",
       "    <tr>\n",
       "      <th>Addieville</th>\n",
       "      <td>1</td>\n",
       "      <td>5</td>\n",
       "      <td>939917.34</td>\n",
       "      <td>860520.60</td>\n",
       "      <td>25020.09</td>\n",
       "      <td>21050.20</td>\n",
       "      <td>3969.89</td>\n",
       "      <td>344</td>\n",
       "    </tr>\n",
       "    <tr>\n",
       "      <th>Addison</th>\n",
       "      <td>23</td>\n",
       "      <td>111</td>\n",
       "      <td>88623932.26</td>\n",
       "      <td>80762581.15</td>\n",
       "      <td>2476573.63</td>\n",
       "      <td>2083474.53</td>\n",
       "      <td>393099.10</td>\n",
       "      <td>37,089</td>\n",
       "    </tr>\n",
       "    <tr>\n",
       "      <th>Albany</th>\n",
       "      <td>2</td>\n",
       "      <td>7</td>\n",
       "      <td>2030709.60</td>\n",
       "      <td>1855397.39</td>\n",
       "      <td>55473.53</td>\n",
       "      <td>46707.84</td>\n",
       "      <td>8765.69</td>\n",
       "      <td>979</td>\n",
       "    </tr>\n",
       "    <tr>\n",
       "      <th>Albers</th>\n",
       "      <td>1</td>\n",
       "      <td>4</td>\n",
       "      <td>1546280.29</td>\n",
       "      <td>1419896.70</td>\n",
       "      <td>39710.50</td>\n",
       "      <td>33391.29</td>\n",
       "      <td>6319.21</td>\n",
       "      <td>1,184</td>\n",
       "    </tr>\n",
       "    <tr>\n",
       "      <th>...</th>\n",
       "      <td>...</td>\n",
       "      <td>...</td>\n",
       "      <td>...</td>\n",
       "      <td>...</td>\n",
       "      <td>...</td>\n",
       "      <td>...</td>\n",
       "      <td>...</td>\n",
       "      <td>...</td>\n",
       "    </tr>\n",
       "    <tr>\n",
       "      <th>Wyoming</th>\n",
       "      <td>4</td>\n",
       "      <td>14</td>\n",
       "      <td>5175796.61</td>\n",
       "      <td>4750570.47</td>\n",
       "      <td>134733.65</td>\n",
       "      <td>113472.25</td>\n",
       "      <td>21261.40</td>\n",
       "      <td>1,365</td>\n",
       "    </tr>\n",
       "    <tr>\n",
       "      <th>Yates City</th>\n",
       "      <td>2</td>\n",
       "      <td>9</td>\n",
       "      <td>2312753.96</td>\n",
       "      <td>2112213.03</td>\n",
       "      <td>62885.85</td>\n",
       "      <td>52858.72</td>\n",
       "      <td>10027.13</td>\n",
       "      <td>739</td>\n",
       "    </tr>\n",
       "    <tr>\n",
       "      <th>Yorkville</th>\n",
       "      <td>17</td>\n",
       "      <td>82</td>\n",
       "      <td>34644816.40</td>\n",
       "      <td>31807129.97</td>\n",
       "      <td>891425.19</td>\n",
       "      <td>749532.91</td>\n",
       "      <td>141892.28</td>\n",
       "      <td>19,145</td>\n",
       "    </tr>\n",
       "    <tr>\n",
       "      <th>Zeigler</th>\n",
       "      <td>2</td>\n",
       "      <td>10</td>\n",
       "      <td>6313807.67</td>\n",
       "      <td>5800470.01</td>\n",
       "      <td>161690.11</td>\n",
       "      <td>136023.12</td>\n",
       "      <td>25666.99</td>\n",
       "      <td>1,836</td>\n",
       "    </tr>\n",
       "    <tr>\n",
       "      <th>Zion</th>\n",
       "      <td>8</td>\n",
       "      <td>40</td>\n",
       "      <td>55554420.63</td>\n",
       "      <td>50732129.76</td>\n",
       "      <td>1519326.98</td>\n",
       "      <td>1278211.05</td>\n",
       "      <td>241115.93</td>\n",
       "      <td>24,047</td>\n",
       "    </tr>\n",
       "  </tbody>\n",
       "</table>\n",
       "<p>835 rows × 8 columns</p>\n",
       "</div>"
      ],
      "text/plain": [
       "              Establishment Count  Terminal Count  Amount Played   Amount Won  \\\n",
       "Municipality                                                                    \n",
       "Abingdon                        4              16     6492446.76   5968296.97   \n",
       "Addieville                      1               5      939917.34    860520.60   \n",
       "Addison                        23             111    88623932.26  80762581.15   \n",
       "Albany                          2               7     2030709.60   1855397.39   \n",
       "Albers                          1               4     1546280.29   1419896.70   \n",
       "...                           ...             ...            ...          ...   \n",
       "Wyoming                         4              14     5175796.61   4750570.47   \n",
       "Yates City                      2               9     2312753.96   2112213.03   \n",
       "Yorkville                      17              82    34644816.40  31807129.97   \n",
       "Zeigler                         2              10     6313807.67   5800470.01   \n",
       "Zion                            8              40    55554420.63  50732129.76   \n",
       "\n",
       "                 Nti Tax  State Share  Municipality Share Population  \n",
       "Municipality                                                          \n",
       "Abingdon       165040.02    138832.38            26207.64      3,452  \n",
       "Addieville      25020.09     21050.20             3969.89        344  \n",
       "Addison       2476573.63   2083474.53           393099.10     37,089  \n",
       "Albany          55473.53     46707.84             8765.69        979  \n",
       "Albers          39710.50     33391.29             6319.21      1,184  \n",
       "...                  ...          ...                 ...        ...  \n",
       "Wyoming        134733.65    113472.25            21261.40      1,365  \n",
       "Yates City      62885.85     52858.72            10027.13        739  \n",
       "Yorkville      891425.19    749532.91           141892.28     19,145  \n",
       "Zeigler        161690.11    136023.12            25666.99      1,836  \n",
       "Zion          1519326.98   1278211.05           241115.93     24,047  \n",
       "\n",
       "[835 rows x 8 columns]"
      ]
     },
     "execution_count": 15,
     "metadata": {},
     "output_type": "execute_result"
    }
   ],
   "source": [
    "# Your code here\n",
    "df.sort_index()"
   ]
  },
  {
   "cell_type": "markdown",
   "metadata": {
    "ExecuteTime": {
     "end_time": "2020-05-17T00:21:15.301914Z",
     "start_time": "2020-05-17T00:21:15.268592Z"
    }
   },
   "source": [
    "To make things easier on ourselves, let's reformat our column names.\n",
    "\n",
    "<u>In the cell below:</u>\n",
    "1. Replace spaces with underscores for each column name\n",
    "2. Lower each column name\n",
    ">Bonus points if you do this via list comphrension 😃"
   ]
  },
  {
   "cell_type": "code",
   "execution_count": 17,
   "metadata": {},
   "outputs": [
    {
     "data": {
      "text/html": [
       "<div>\n",
       "<style scoped>\n",
       "    .dataframe tbody tr th:only-of-type {\n",
       "        vertical-align: middle;\n",
       "    }\n",
       "\n",
       "    .dataframe tbody tr th {\n",
       "        vertical-align: top;\n",
       "    }\n",
       "\n",
       "    .dataframe thead th {\n",
       "        text-align: right;\n",
       "    }\n",
       "</style>\n",
       "<table border=\"1\" class=\"dataframe\">\n",
       "  <thead>\n",
       "    <tr style=\"text-align: right;\">\n",
       "      <th></th>\n",
       "      <th>establishment_count</th>\n",
       "      <th>terminal_count</th>\n",
       "      <th>amount_played</th>\n",
       "      <th>amount_won</th>\n",
       "      <th>nti_tax</th>\n",
       "      <th>state_share</th>\n",
       "      <th>municipality_share</th>\n",
       "      <th>population</th>\n",
       "    </tr>\n",
       "    <tr>\n",
       "      <th>Municipality</th>\n",
       "      <th></th>\n",
       "      <th></th>\n",
       "      <th></th>\n",
       "      <th></th>\n",
       "      <th></th>\n",
       "      <th></th>\n",
       "      <th></th>\n",
       "      <th></th>\n",
       "    </tr>\n",
       "  </thead>\n",
       "  <tbody>\n",
       "    <tr>\n",
       "      <th>Oregon</th>\n",
       "      <td>13</td>\n",
       "      <td>58</td>\n",
       "      <td>30182428.57</td>\n",
       "      <td>27583763.32</td>\n",
       "      <td>818444.23</td>\n",
       "      <td>688505.69</td>\n",
       "      <td>129938.54</td>\n",
       "      <td>3,683</td>\n",
       "    </tr>\n",
       "    <tr>\n",
       "      <th>Oakwood Hills</th>\n",
       "      <td>1</td>\n",
       "      <td>4</td>\n",
       "      <td>216669.74</td>\n",
       "      <td>199790.23</td>\n",
       "      <td>5281.38</td>\n",
       "      <td>4433.69</td>\n",
       "      <td>847.69</td>\n",
       "      <td>2,245</td>\n",
       "    </tr>\n",
       "    <tr>\n",
       "      <th>Merrionette Park</th>\n",
       "      <td>4</td>\n",
       "      <td>17</td>\n",
       "      <td>26567816.26</td>\n",
       "      <td>24324921.75</td>\n",
       "      <td>706616.85</td>\n",
       "      <td>594470.85</td>\n",
       "      <td>112146.00</td>\n",
       "      <td>2,163</td>\n",
       "    </tr>\n",
       "    <tr>\n",
       "      <th>Ashkum</th>\n",
       "      <td>2</td>\n",
       "      <td>8</td>\n",
       "      <td>2289711.66</td>\n",
       "      <td>2113123.06</td>\n",
       "      <td>55674.55</td>\n",
       "      <td>46845.11</td>\n",
       "      <td>8829.44</td>\n",
       "      <td>800</td>\n",
       "    </tr>\n",
       "    <tr>\n",
       "      <th>Grandview</th>\n",
       "      <td>5</td>\n",
       "      <td>25</td>\n",
       "      <td>13713301.51</td>\n",
       "      <td>12475853.83</td>\n",
       "      <td>390048.01</td>\n",
       "      <td>328175.50</td>\n",
       "      <td>61872.51</td>\n",
       "      <td>1,453</td>\n",
       "    </tr>\n",
       "  </tbody>\n",
       "</table>\n",
       "</div>"
      ],
      "text/plain": [
       "                  establishment_count  terminal_count  amount_played  \\\n",
       "Municipality                                                           \n",
       "Oregon                             13              58    30182428.57   \n",
       "Oakwood Hills                       1               4      216669.74   \n",
       "Merrionette Park                    4              17    26567816.26   \n",
       "Ashkum                              2               8     2289711.66   \n",
       "Grandview                           5              25    13713301.51   \n",
       "\n",
       "                   amount_won    nti_tax  state_share  municipality_share  \\\n",
       "Municipality                                                                \n",
       "Oregon            27583763.32  818444.23    688505.69           129938.54   \n",
       "Oakwood Hills       199790.23    5281.38      4433.69              847.69   \n",
       "Merrionette Park  24324921.75  706616.85    594470.85           112146.00   \n",
       "Ashkum             2113123.06   55674.55     46845.11             8829.44   \n",
       "Grandview         12475853.83  390048.01    328175.50            61872.51   \n",
       "\n",
       "                 population  \n",
       "Municipality                 \n",
       "Oregon                3,683  \n",
       "Oakwood Hills         2,245  \n",
       "Merrionette Park      2,163  \n",
       "Ashkum                  800  \n",
       "Grandview             1,453  "
      ]
     },
     "execution_count": 17,
     "metadata": {},
     "output_type": "execute_result"
    }
   ],
   "source": [
    "# Your code here\n",
    "df.columns = [x.replace(' ', '_').lower() for x in df.columns]\n",
    "df.head()"
   ]
  },
  {
   "cell_type": "markdown",
   "metadata": {
    "ExecuteTime": {
     "end_time": "2020-05-17T00:31:27.767106Z",
     "start_time": "2020-05-17T00:31:27.740575Z"
    }
   },
   "source": [
    "<center><i><h1>So much cleaning</h1></i></center>\n",
    "\n",
    "\n",
    "![](https://media.giphy.com/media/3o7WIE14z2d66BJWJa/giphy.gif)\n",
    "\n",
    "--------\n",
    "\n",
    "Ok Ok, we're almost done formatting our data.\n",
    "\n",
    "<u>In the cell below:</u> \n",
    "1. Print out the datatypes for each of our columns using the ```.info()``` method.\n"
   ]
  },
  {
   "cell_type": "code",
   "execution_count": 18,
   "metadata": {},
   "outputs": [
    {
     "name": "stdout",
     "output_type": "stream",
     "text": [
      "<class 'pandas.core.frame.DataFrame'>\n",
      "Index: 835 entries, Oregon to Minier\n",
      "Data columns (total 8 columns):\n",
      "establishment_count    835 non-null int64\n",
      "terminal_count         835 non-null int64\n",
      "amount_played          835 non-null float64\n",
      "amount_won             835 non-null float64\n",
      "nti_tax                835 non-null float64\n",
      "state_share            835 non-null float64\n",
      "municipality_share     835 non-null float64\n",
      "population             835 non-null object\n",
      "dtypes: float64(5), int64(2), object(1)\n",
      "memory usage: 58.7+ KB\n"
     ]
    }
   ],
   "source": [
    "# Your code here\n",
    "df.info()"
   ]
  },
  {
   "cell_type": "markdown",
   "metadata": {},
   "source": [
    "Our ```population``` column contains commas which is causing the computer to interpret the column as a string.\n",
    "\n",
    "<u>In the cell below:</u>\n",
    "1. Remove the commas from the column using the ```.apply``` method\n",
    ">**If your confused:** Find the answer relating to ```.apply()``` in this [Stack Overflow](https://stackoverflow.com/questions/56947333/how-to-remove-commas-from-all-the-column-in-pandas-at-once/56947424#56947424?newreg=3c19aff3bd5146a19f7787afedc243a2) thread.\n",
    "2. Convert the column datatype to integer\n",
    "\n",
    "    - Bonus points if you can do steps 1 & 2 with 1️⃣ line of code! 😻"
   ]
  },
  {
   "cell_type": "code",
   "execution_count": 21,
   "metadata": {},
   "outputs": [],
   "source": [
    "# Your code here\n",
    "df.population = df.population.apply(lambda x: int(x.replace(',', '')))"
   ]
  },
  {
   "cell_type": "markdown",
   "metadata": {
    "ExecuteTime": {
     "end_time": "2020-05-17T00:51:29.636765Z",
     "start_time": "2020-05-17T00:51:29.423590Z"
    }
   },
   "source": [
    "# Cleaning Complete!\n",
    "\n",
    "<img src=\"https://media.giphy.com/media/hEZIaecxpR78I/giphy.gif\" width=400/>"
   ]
  },
  {
   "cell_type": "markdown",
   "metadata": {},
   "source": [
    "#### Ok Ok! \n",
    "\n",
    "Let's create a column that shows the number of gambling terminals per capita!\n",
    "\n",
    "<u>In the cell below:</u>\n",
    "1. Create a new column called ```terminals_percapita``` by dividing ```terminal_count``` by ```population```"
   ]
  },
  {
   "cell_type": "code",
   "execution_count": 25,
   "metadata": {},
   "outputs": [],
   "source": [
    "# Your code here\n",
    "df['terminals_percapita'] = df.terminal_count / df.population"
   ]
  },
  {
   "cell_type": "markdown",
   "metadata": {},
   "source": [
    "Now let's identify which communities have the highest number of gambling devices per capita. \n",
    "\n",
    "\n",
    "<u>In the cell(s) below:</u>\n",
    "1. [Sort](https://pandas.pydata.org/pandas-docs/stable/reference/api/pandas.DataFrame.sort_values.html) the dataframe according to the ```terminals_percapita``` column.\n",
    "2. Identify the 10 communities with the highest number of gambling machines per capita.\n",
    "3. Save those 10 community names in a list called ```highest_machines_percapita```"
   ]
  },
  {
   "cell_type": "code",
   "execution_count": 41,
   "metadata": {
    "ExecuteTime": {
     "end_time": "2020-05-17T01:05:16.869432Z",
     "start_time": "2020-05-17T01:05:16.864292Z"
    }
   },
   "outputs": [],
   "source": [
    "# Your code here\n",
    "highest_machines_percapita = list(df.sort_values(by='terminals_percapita',ascending = False).head(10).index)"
   ]
  },
  {
   "cell_type": "markdown",
   "metadata": {},
   "source": [
    "Run the cell below to see if you identified the correct Municipalities!"
   ]
  },
  {
   "cell_type": "code",
   "execution_count": 42,
   "metadata": {},
   "outputs": [
    {
     "data": {
      "text/markdown": [
       "✅ **Hey, you did it.  Good job.**"
      ],
      "text/plain": [
       "<IPython.core.display.Markdown object>"
      ]
     },
     "metadata": {},
     "output_type": "display_data"
    }
   ],
   "source": [
    "testing.run_test(highest_machines_percapita, 'highest_machines_percapita')"
   ]
  },
  {
   "cell_type": "markdown",
   "metadata": {},
   "source": [
    "**Next,** let's figure out how much money players lost for each municipality.\n",
    "\n",
    "<u>In the cell below:</u>\n",
    "1. Create a new column called ```amount_lost``` that is the difference between the ```amount_played``` and ```amount_won``` columns"
   ]
  },
  {
   "cell_type": "code",
   "execution_count": 45,
   "metadata": {},
   "outputs": [],
   "source": [
    "# Your code here\n",
    "df['amount_lost'] = df.amount_played - df.amount_won"
   ]
  },
  {
   "cell_type": "markdown",
   "metadata": {},
   "source": [
    "<u>In the cell below:</u>\n",
    "1. Save the mean of the ```amount_loss``` column as the variable ```average_loss```.\n",
    "2. Using numpy, round the ```average_loss``` variable to 2 decimal points.\n",
    "    - Save the rounded number as the variable ```average_loss_rounded```"
   ]
  },
  {
   "cell_type": "code",
   "execution_count": 57,
   "metadata": {},
   "outputs": [
    {
     "data": {
      "text/plain": [
       "1816880.05"
      ]
     },
     "execution_count": 57,
     "metadata": {},
     "output_type": "execute_result"
    }
   ],
   "source": [
    "# Your code here\n",
    "\n",
    "average_loss = df.amount_lost.mean()\n",
    "average_loss_rounded = round(average_loss, 2)\n",
    "average_loss_rounded"
   ]
  },
  {
   "cell_type": "markdown",
   "metadata": {},
   "source": [
    "Let's zoom in on this new loss data. \n",
    "\n",
    "<u>In the cell below:</u>\n",
    "1. Create a new column called ```loss_percapita``` that is the division of the ```amount_lost``` and ```population```"
   ]
  },
  {
   "cell_type": "code",
   "execution_count": 53,
   "metadata": {},
   "outputs": [],
   "source": [
    "# Your code here\n",
    "df['loss_percapita'] = round(df.amount_lost / df.population, 2)"
   ]
  },
  {
   "cell_type": "markdown",
   "metadata": {},
   "source": [
    "<u>In the cell below</u>\n",
    "1. Sort the dataframe by ```loss_percapita``` and save the 10 communities with the highest loss per capita to a list called ```highest_loss_percapita```"
   ]
  },
  {
   "cell_type": "code",
   "execution_count": 62,
   "metadata": {},
   "outputs": [],
   "source": [
    "# Your code here\n",
    "highest_loss_percapita = list(df.loss_percapita.sort_values(ascending = False).head(10).index)\n"
   ]
  },
  {
   "cell_type": "markdown",
   "metadata": {
    "ExecuteTime": {
     "end_time": "2020-05-17T01:55:55.877308Z",
     "start_time": "2020-05-17T01:55:55.873469Z"
    }
   },
   "source": [
    "Run the cell below to see if you idenitified the correct municipalities!"
   ]
  },
  {
   "cell_type": "code",
   "execution_count": 63,
   "metadata": {
    "ExecuteTime": {
     "end_time": "2020-05-17T21:40:33.536543Z",
     "start_time": "2020-05-17T21:40:33.531834Z"
    }
   },
   "outputs": [
    {
     "data": {
      "text/markdown": [
       "✅ **Hey, you did it.  Good job.**"
      ],
      "text/plain": [
       "<IPython.core.display.Markdown object>"
      ]
     },
     "metadata": {},
     "output_type": "display_data"
    }
   ],
   "source": [
    "testing.run_test(highest_loss_percapita, 'highest_loss_percapita')"
   ]
  },
  {
   "cell_type": "markdown",
   "metadata": {
    "ExecuteTime": {
     "end_time": "2020-05-17T02:18:33.975014Z",
     "start_time": "2020-05-17T02:18:33.849160Z"
    }
   },
   "source": [
    "<u>In the cell below:</u>\n",
    "1. Filter our dataframe to contain municipalities with a ```loss_percapita``` of 406 or greater. \n",
    "    - Save this filtered dataframe as ```high_loss_percapita```\n",
    "2. Filter our dataframe to contain municipalities with a ```loss_percapita``` of 155 or less.\n",
    "    - Save this filtered dataframe as ```low_loss_percapita```\n",
    "3. Identify the mean population for the municipalities with a high per capita loss\n",
    "    - Using numpy, round this data point to 2 decimals\n",
    "    - Save this data point as the variable ```high_loss_average_population```\n",
    "\n",
    "4. Identify the mean population for the municipalities with a low per capita loss.\n",
    "    - Using numpy round this data point to 2 decimals\n",
    "    - Save this data point as the variable ```low_loss_average_population```  "
   ]
  },
  {
   "cell_type": "code",
   "execution_count": 66,
   "metadata": {},
   "outputs": [],
   "source": [
    "# Your code here\n",
    "high_loss_percapita = df.loc[df.loss_percapita > 406]\n",
    "low_loss_percapita = df.loc[df.loss_percapita < 155]\n",
    "high_loss_average_population = round(high_loss_percapita.population.mean(),2)\n",
    "low_loss_average_population = round(low_loss_percapita.population.mean(),2)"
   ]
  },
  {
   "cell_type": "markdown",
   "metadata": {
    "ExecuteTime": {
     "end_time": "2020-05-17T02:38:58.820615Z",
     "start_time": "2020-05-17T02:38:58.816687Z"
    }
   },
   "source": [
    "Run the cell below to see if you identified the correct averages!"
   ]
  },
  {
   "cell_type": "code",
   "execution_count": 67,
   "metadata": {},
   "outputs": [
    {
     "data": {
      "text/markdown": [
       "✅ **Hey, you did it.  Good job.**"
      ],
      "text/plain": [
       "<IPython.core.display.Markdown object>"
      ]
     },
     "metadata": {},
     "output_type": "display_data"
    },
    {
     "data": {
      "text/markdown": [
       "✅ **Hey, you did it.  Good job.**"
      ],
      "text/plain": [
       "<IPython.core.display.Markdown object>"
      ]
     },
     "metadata": {},
     "output_type": "display_data"
    }
   ],
   "source": [
    "high_result = testing.run_test(high_loss_average_population, 'high_loss_average_population')\n",
    "low_result = testing.run_test(low_loss_average_population, 'low_loss_average_population')"
   ]
  },
  {
   "cell_type": "code",
   "execution_count": null,
   "metadata": {},
   "outputs": [],
   "source": []
  }
 ],
 "metadata": {
  "hide_input": false,
  "kernelspec": {
   "display_name": "Python 3",
   "language": "python",
   "name": "python3"
  },
  "language_info": {
   "codemirror_mode": {
    "name": "ipython",
    "version": 3
   },
   "file_extension": ".py",
   "mimetype": "text/x-python",
   "name": "python",
   "nbconvert_exporter": "python",
   "pygments_lexer": "ipython3",
   "version": "3.6.9"
  },
  "toc": {
   "base_numbering": 1,
   "nav_menu": {},
   "number_sections": false,
   "sideBar": true,
   "skip_h1_title": true,
   "title_cell": "Table of Contents",
   "title_sidebar": "Contents",
   "toc_cell": false,
   "toc_position": {},
   "toc_section_display": true,
   "toc_window_display": false
  },
  "varInspector": {
   "cols": {
    "lenName": 16,
    "lenType": 16,
    "lenVar": 40
   },
   "kernels_config": {
    "python": {
     "delete_cmd_postfix": "",
     "delete_cmd_prefix": "del ",
     "library": "var_list.py",
     "varRefreshCmd": "print(var_dic_list())"
    },
    "r": {
     "delete_cmd_postfix": ") ",
     "delete_cmd_prefix": "rm(",
     "library": "var_list.r",
     "varRefreshCmd": "cat(var_dic_list()) "
    }
   },
   "types_to_exclude": [
    "module",
    "function",
    "builtin_function_or_method",
    "instance",
    "_Feature"
   ],
   "window_display": false
  }
 },
 "nbformat": 4,
 "nbformat_minor": 4
}
